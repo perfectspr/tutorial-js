{
 "cells": [
  {
   "cell_type": "markdown",
   "metadata": {},
   "source": [
    "# Javascript Types"
   ]
  },
  {
   "cell_type": "markdown",
   "metadata": {},
   "source": [
    "![datatype](https://cdn.splessons.com/spf/c81e728d9d4c2f636f067f89cc14862c/wp-content/uploads/2016/03/javascript-datatypes-01-splessons.jpg)"
   ]
  },
  {
   "cell_type": "code",
   "execution_count": 38,
   "metadata": {},
   "outputs": [
    {
     "name": "stdout",
     "output_type": "stream",
     "text": [
      "number string boolean object object object function\n"
     ]
    }
   ],
   "source": [
    "{\n",
    "    let len = 16;                               // number\n",
    "    let lastName = \"Johnson\";                   // string\n",
    "    let b = true;                               // boolean\n",
    "    let x = {firstName:\"John\", lastName:\"Doe\"}; // object\n",
    "    let a = [1,2,3];                            // object\n",
    "    let reg = /.*/g                             // object\n",
    "    class Test{}                                // function\n",
    "    \n",
    "    console.log(typeof len, typeof lastName, typeof b, typeof x, typeof a, typeof reg, typeof Test)\n",
    "}"
   ]
  }
 ],
 "metadata": {
  "kernelspec": {
   "display_name": "Javascript (Node.js)",
   "language": "javascript",
   "name": "javascript"
  },
  "language_info": {
   "file_extension": ".js",
   "mimetype": "application/javascript",
   "name": "javascript",
   "version": "12.16.1"
  }
 },
 "nbformat": 4,
 "nbformat_minor": 4
}
