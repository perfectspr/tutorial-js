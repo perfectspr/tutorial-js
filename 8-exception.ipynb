{
 "cells": [
  {
   "cell_type": "markdown",
   "metadata": {},
   "source": [
    "# Exception"
   ]
  },
  {
   "cell_type": "markdown",
   "metadata": {},
   "source": [
    "## Basic"
   ]
  },
  {
   "cell_type": "code",
   "execution_count": 5,
   "metadata": {},
   "outputs": [
    {
     "name": "stdout",
     "output_type": "stream",
     "text": [
      "foo error\n",
      "finally\n"
     ]
    }
   ],
   "source": [
    "{\n",
    "    function foo() {\n",
    "        throw new Error(\"foo error\");\n",
    "    }\n",
    "    try {\n",
    "        foo();\n",
    "    } catch(err) {\n",
    "        console.log(err.message);\n",
    "    } finally {\n",
    "        console.log('finally');\n",
    "    }\n",
    "}"
   ]
  },
  {
   "cell_type": "markdown",
   "metadata": {},
   "source": [
    "![error](https://image.slidesharecdn.com/ya5y1bo2sow5zuc44ji7-signature-9eba75e55d5f1a13f92de812fca2c9b40bb3f422fbec9c733dc1b93389e3d688-poli-151120071626-lva1-app6892/95/lightning-talk-javascript-error-handling-12-638.jpg?cb=1448003928)"
   ]
  },
  {
   "cell_type": "markdown",
   "metadata": {},
   "source": [
    "## Custom Error"
   ]
  },
  {
   "cell_type": "code",
   "execution_count": 6,
   "metadata": {},
   "outputs": [
    {
     "name": "stdout",
     "output_type": "stream",
     "text": [
      "Whoops!\n",
      "ValidationError\n",
      "ValidationError: Whoops!\n",
      "    at test (evalmachine.<anonymous>:10:13)\n",
      "    at evalmachine.<anonymous>:14:7\n",
      "    at Script.runInThisContext (vm.js:120:20)\n",
      "    at Object.runInThisContext (vm.js:311:38)\n",
      "    at run ([eval]:1054:15)\n",
      "    at onRunRequest ([eval]:888:18)\n",
      "    at onMessage ([eval]:848:13)\n",
      "    at process.emit (events.js:311:20)\n",
      "    at emit (internal/child_process.js:876:12)\n",
      "    at processTicksAndRejections (internal/process/task_queues.js:85:21)\n"
     ]
    }
   ],
   "source": [
    "{\n",
    "  class ValidationError extends Error {\n",
    "      constructor(message) {\n",
    "        super(message); // (1)\n",
    "        this.name = \"ValidationError\"; // (2)\n",
    "      }\n",
    "    }\n",
    "\n",
    "    function test() {\n",
    "      throw new ValidationError(\"Whoops!\");\n",
    "    }\n",
    "\n",
    "    try {\n",
    "      test();\n",
    "    } catch(err) {\n",
    "      console.log(err.message); // Whoops!\n",
    "      console.log(err.name); // ValidationError\n",
    "      console.log(err.stack); // a list of nested calls with line numbers for each\n",
    "    }  \n",
    "}"
   ]
  }
 ],
 "metadata": {
  "kernelspec": {
   "display_name": "Javascript (Node.js)",
   "language": "javascript",
   "name": "javascript"
  },
  "language_info": {
   "file_extension": ".js",
   "mimetype": "application/javascript",
   "name": "javascript",
   "version": "12.16.1"
  }
 },
 "nbformat": 4,
 "nbformat_minor": 4
}
