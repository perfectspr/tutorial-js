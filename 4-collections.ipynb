{
 "cells": [
  {
   "cell_type": "markdown",
   "metadata": {},
   "source": [
    "# Collections"
   ]
  },
  {
   "cell_type": "markdown",
   "metadata": {},
   "source": [
    "## Array"
   ]
  },
  {
   "cell_type": "markdown",
   "metadata": {},
   "source": [
    "### Create an Array"
   ]
  },
  {
   "cell_type": "code",
   "execution_count": 8,
   "metadata": {},
   "outputs": [
    {
     "data": {
      "text/plain": [
       "[ 3, 11, 8 ]"
      ]
     },
     "execution_count": 8,
     "metadata": {},
     "output_type": "execute_result"
    }
   ],
   "source": [
    "[\"Saab\", \"Volvo\", \"BMW\"]           // [\"Saab\", \"Volvo\", \"BMW\"]\n",
    "new Array(\"Saab\", \"Volvo\", \"BMW\"); // [\"Saab\", \"Volvo\", \"BMW\"]\n",
    "Array.from(\"123\");                 // [ '1', '2', '3' ]\n",
    "Array.of(3, 11, 8);                // [3,11,8]\n",
    "Array();                           // []\n",
    "Array(1);                          // [1]\n",
    "Array(3, 11, 8);                   // [3,11,8]"
   ]
  },
  {
   "cell_type": "markdown",
   "metadata": {},
   "source": [
    "### Spread Operators"
   ]
  },
  {
   "cell_type": "code",
   "execution_count": 17,
   "metadata": {},
   "outputs": [
    {
     "name": "stdout",
     "output_type": "stream",
     "text": [
      "1 2 3\n",
      "1 2 3 4 5\n"
     ]
    }
   ],
   "source": [
    "{\n",
    "    console.log(...[1, 2, 3]);\n",
    "    console.log(1, ...[2, 3, 4], 5);\n",
    "}"
   ]
  },
  {
   "cell_type": "markdown",
   "metadata": {},
   "source": [
    "### Copy Array"
   ]
  },
  {
   "cell_type": "code",
   "execution_count": null,
   "metadata": {},
   "outputs": [],
   "source": [
    "{\n",
    "    const a1 = [1, 2];\n",
    "    // 写法一\n",
    "    const a2 = [...a1];\n",
    "    // 写法二\n",
    "    const [...a2] = a1;\n",
    "}"
   ]
  },
  {
   "cell_type": "markdown",
   "metadata": {},
   "source": [
    "### Merge Array"
   ]
  },
  {
   "cell_type": "code",
   "execution_count": 18,
   "metadata": {},
   "outputs": [
    {
     "data": {
      "text/plain": [
       "[ 'a', 'b', 'c', 'd', 'e' ]"
      ]
     },
     "execution_count": 18,
     "metadata": {},
     "output_type": "execute_result"
    }
   ],
   "source": [
    "{\n",
    "    const arr1 = ['a', 'b'];\n",
    "    const arr2 = ['c'];\n",
    "    const arr3 = ['d', 'e'];\n",
    "\n",
    "    // ES5 的合并数组\n",
    "    arr1.concat(arr1, arr2, arr3);\n",
    "    // [ 'a', 'b', 'c', 'd', 'e' ]\n",
    "\n",
    "    // ES6 的合并数组\n",
    "    [...arr1, ...arr2, ...arr3]\n",
    "    // [ 'a', 'b', 'c', 'd', 'e' ]\n",
    "}"
   ]
  },
  {
   "cell_type": "markdown",
   "metadata": {},
   "source": [
    "### Iteration"
   ]
  },
  {
   "cell_type": "code",
   "execution_count": 23,
   "metadata": {},
   "outputs": [
    {
     "name": "stdout",
     "output_type": "stream",
     "text": [
      "[ 1, 2, 3, 4, 5 ]\n"
     ]
    }
   ],
   "source": [
    "{\n",
    "    \n",
    "    let numbers1 = [45, 4, 9, 16, 25];\n",
    "    let numbers2 = numbers1.map(myFunction);\n",
    "\n",
    "    function myFunction(value, index, array) {\n",
    "      return value + 1;\n",
    "    }\n",
    "    console.log(numbers2);\n",
    "}"
   ]
  },
  {
   "cell_type": "markdown",
   "metadata": {},
   "source": [
    "### Filter"
   ]
  },
  {
   "cell_type": "code",
   "execution_count": 25,
   "metadata": {},
   "outputs": [
    {
     "name": "stdout",
     "output_type": "stream",
     "text": [
      "[ 45, 25 ]\n"
     ]
    }
   ],
   "source": [
    "{\n",
    "    let numbers = [45, 4, 9, 16, 25];\n",
    "    let over18 = numbers.filter(value=>value>18);\n",
    "    console.log(over18)\n",
    "}"
   ]
  },
  {
   "cell_type": "markdown",
   "metadata": {},
   "source": [
    "![amethods](https://www.tutsmake.com/wp-content/uploads/2019/03/JavaScript-Array-Methods.jpeg)"
   ]
  },
  {
   "cell_type": "markdown",
   "metadata": {},
   "source": [
    "## Object"
   ]
  },
  {
   "cell_type": "code",
   "execution_count": 15,
   "metadata": {},
   "outputs": [
    {
     "name": "stdout",
     "output_type": "stream",
     "text": [
      "{\n",
      "  firstName: 'John',\n",
      "  lastName: 'Doe',\n",
      "  age: 50,\n",
      "  eyeColor: 'blue',\n",
      "  fullName: [Function: fullName]\n",
      "}\n",
      "John\n",
      "John Doe\n"
     ]
    }
   ],
   "source": [
    "{\n",
    "    let person = {\n",
    "        firstName:\"John\", \n",
    "        lastName:\"Doe\", \n",
    "        age:50, \n",
    "        eyeColor:\"blue\", \n",
    "        fullName: function () {return this.firstName + \" \" + this.lastName;}\n",
    "    };\n",
    "    console.log(person);\n",
    "    \n",
    "    console.log(person.firstName);\n",
    "    console.log(person.fullName());\n",
    "}"
   ]
  }
 ],
 "metadata": {
  "kernelspec": {
   "display_name": "Javascript (Node.js)",
   "language": "javascript",
   "name": "javascript"
  },
  "language_info": {
   "file_extension": ".js",
   "mimetype": "application/javascript",
   "name": "javascript",
   "version": "12.16.1"
  }
 },
 "nbformat": 4,
 "nbformat_minor": 4
}
