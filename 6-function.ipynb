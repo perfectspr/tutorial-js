{
 "cells": [
  {
   "cell_type": "markdown",
   "metadata": {},
   "source": [
    "# Function"
   ]
  },
  {
   "cell_type": "code",
   "execution_count": 1,
   "metadata": {},
   "outputs": [
    {
     "name": "stdout",
     "output_type": "stream",
     "text": [
      "Hello World\n",
      "Hello China\n",
      "Hello World\n"
     ]
    }
   ],
   "source": [
    "{\n",
    "    function log(x, y) {\n",
    "      y = y || 'World';\n",
    "      console.log(x, y);\n",
    "    }\n",
    "\n",
    "    log('Hello') // Hello World\n",
    "    log('Hello', 'China') // Hello China\n",
    "    log('Hello', '') // Hello World\n",
    "}"
   ]
  },
  {
   "cell_type": "markdown",
   "metadata": {},
   "source": [
    "## Default Parameters"
   ]
  },
  {
   "cell_type": "code",
   "execution_count": 2,
   "metadata": {},
   "outputs": [
    {
     "name": "stdout",
     "output_type": "stream",
     "text": [
      "Hello World\n",
      "Hello China\n",
      "Hello \n"
     ]
    }
   ],
   "source": [
    "{\n",
    "   function log(x, y = 'World') {\n",
    "      console.log(x, y);\n",
    "    }\n",
    "\n",
    "    log('Hello') // Hello World\n",
    "    log('Hello', 'China') // Hello China\n",
    "    log('Hello', '') // Hello \n",
    "}"
   ]
  },
  {
   "cell_type": "code",
   "execution_count": 5,
   "metadata": {},
   "outputs": [
    {
     "data": {
      "text/plain": [
       "[ 1, 5, 2 ]"
      ]
     },
     "execution_count": 5,
     "metadata": {},
     "output_type": "execute_result"
    }
   ],
   "source": [
    "{\n",
    "   function f(x = 1, y) {\n",
    "      return [x, y];\n",
    "    }\n",
    "\n",
    "    f() // [1, undefined]\n",
    "    f(2) // [2, undefined]\n",
    "    //f(, 1) // error\n",
    "    f(undefined, 1) // [1, 1]\n",
    "\n",
    "\n",
    "    function f(x, y = 5, z) {\n",
    "      return [x, y, z];\n",
    "    }\n",
    "\n",
    "    f() // [undefined, 5, undefined]\n",
    "    f(1) // [1, 5, undefined]\n",
    "    //f(1, ,2) // error\n",
    "    f(1, undefined, 2) // [1, 5, 2] \n",
    "}"
   ]
  },
  {
   "cell_type": "markdown",
   "metadata": {},
   "source": [
    "## Rest Parameters"
   ]
  },
  {
   "cell_type": "code",
   "execution_count": 8,
   "metadata": {},
   "outputs": [
    {
     "data": {
      "text/plain": [
       "10"
      ]
     },
     "execution_count": 8,
     "metadata": {},
     "output_type": "execute_result"
    }
   ],
   "source": [
    "{\n",
    "    function add(...values) {\n",
    "      let sum = 0;\n",
    "\n",
    "      for (let val of values) {\n",
    "        sum += val;\n",
    "      }\n",
    "\n",
    "      return sum;\n",
    "    }\n",
    "\n",
    "    add(2, 5, 3) // 10  \n",
    "}"
   ]
  },
  {
   "cell_type": "markdown",
   "metadata": {},
   "source": [
    "## Arrow Function"
   ]
  },
  {
   "cell_type": "code",
   "execution_count": 9,
   "metadata": {},
   "outputs": [
    {
     "ename": "SyntaxError",
     "evalue": "Identifier 'f' has already been declared",
     "output_type": "error",
     "traceback": [
      "evalmachine.<anonymous>:5",
      "    let f = function () { return 5 };",
      "        ^",
      "",
      "SyntaxError: Identifier 'f' has already been declared",
      "    at new Script (vm.js:88:7)",
      "    at createScript (vm.js:263:10)",
      "    at Object.runInThisContext (vm.js:311:10)",
      "    at run ([eval]:1054:15)",
      "    at onRunRequest ([eval]:888:18)",
      "    at onMessage ([eval]:848:13)",
      "    at process.emit (events.js:311:20)",
      "    at emit (internal/child_process.js:876:12)",
      "    at processTicksAndRejections (internal/process/task_queues.js:85:21)"
     ]
    }
   ],
   "source": [
    "{\n",
    "    \n",
    "    let f = () => 5;\n",
    "    // 等同于\n",
    "    let f = function () { return 5 };\n",
    "\n",
    "    let sum = (num1, num2) => num1 + num2;\n",
    "    // 等同于\n",
    "    let sum = function(num1, num2) {\n",
    "      return num1 + num2;\n",
    "    };\n",
    "}"
   ]
  },
  {
   "cell_type": "code",
   "execution_count": 10,
   "metadata": {},
   "outputs": [
    {
     "data": {
      "text/plain": [
       "[ 1, 4, 9 ]"
      ]
     },
     "execution_count": 10,
     "metadata": {},
     "output_type": "execute_result"
    }
   ],
   "source": [
    "{\n",
    "   // 正常函数写法\n",
    "    [1,2,3].map(function (x) {\n",
    "      return x * x;\n",
    "    });\n",
    "\n",
    "    // 箭头函数写法\n",
    "    [1,2,3].map(x => x * x); \n",
    "}"
   ]
  }
 ],
 "metadata": {
  "kernelspec": {
   "display_name": "Javascript (Node.js)",
   "language": "javascript",
   "name": "javascript"
  },
  "language_info": {
   "file_extension": ".js",
   "mimetype": "application/javascript",
   "name": "javascript",
   "version": "12.16.1"
  }
 },
 "nbformat": 4,
 "nbformat_minor": 4
}
