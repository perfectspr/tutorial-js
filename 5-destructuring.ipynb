{
 "cells": [
  {
   "cell_type": "markdown",
   "metadata": {},
   "source": [
    "# Destructuring"
   ]
  },
  {
   "cell_type": "code",
   "execution_count": 1,
   "metadata": {},
   "outputs": [
    {
     "name": "stdout",
     "output_type": "stream",
     "text": [
      "1 2 3\n"
     ]
    }
   ],
   "source": [
    "{\n",
    "    let someArray = [1, 2, 3];\n",
    "    let first = someArray[0];\n",
    "    let second = someArray[1];\n",
    "    let third = someArray[2];\n",
    "    console.log(first, second, third);\n",
    "}"
   ]
  },
  {
   "cell_type": "code",
   "execution_count": 5,
   "metadata": {},
   "outputs": [
    {
     "name": "stdout",
     "output_type": "stream",
     "text": [
      "1 2 3\n"
     ]
    }
   ],
   "source": [
    "{\n",
    "    let someArray = [1, 2, 3];\n",
    "    let [first, second, third] = someArray;\n",
    "    console.log(first, second, third);\n",
    "}"
   ]
  },
  {
   "cell_type": "code",
   "execution_count": 8,
   "metadata": {},
   "outputs": [
    {
     "name": "stdout",
     "output_type": "stream",
     "text": [
      "lorem\n",
      "ipsum\n",
      "lorem\n",
      "true\n"
     ]
    }
   ],
   "source": [
    "{\n",
    "    let { foo, bar } = { foo: \"lorem\", bar: \"ipsum\" };\n",
    "    console.log(foo);\n",
    "    // \"lorem\"\n",
    "    console.log(bar);\n",
    "    // \"ipsum\"\n",
    "}\n",
    "{\n",
    "    let { bar, foo} = { foo: \"lorem\", bar: \"ipsum\" };\n",
    "    console.log(foo);\n",
    "    // \"lorem\"\n",
    "    console.log(test);\n",
    "    // \"ipsum\"\n",
    "}\n"
   ]
  },
  {
   "cell_type": "markdown",
   "metadata": {},
   "source": [
    "## Default values"
   ]
  },
  {
   "cell_type": "code",
   "execution_count": 4,
   "metadata": {},
   "outputs": [
    {
     "name": "stdout",
     "output_type": "stream",
     "text": [
      "true\n",
      "Something went wrong\n",
      "3\n"
     ]
    }
   ],
   "source": [
    "{\n",
    "    let [missing = true] = [];\n",
    "    console.log(missing);\n",
    "    // true\n",
    "\n",
    "    let { message: msg = \"Something went wrong\" } = {};\n",
    "    console.log(msg);\n",
    "    // \"Something went wrong\"\n",
    "\n",
    "    let { x = 3 } = {};\n",
    "    console.log(x);\n",
    "    // 3\n",
    "}\n"
   ]
  }
 ],
 "metadata": {
  "kernelspec": {
   "display_name": "Javascript (Node.js)",
   "language": "javascript",
   "name": "javascript"
  },
  "language_info": {
   "file_extension": ".js",
   "mimetype": "application/javascript",
   "name": "javascript",
   "version": "12.16.1"
  }
 },
 "nbformat": 4,
 "nbformat_minor": 4
}
