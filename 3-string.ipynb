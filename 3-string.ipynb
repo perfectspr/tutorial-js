{
 "cells": [
  {
   "cell_type": "markdown",
   "metadata": {},
   "source": [
    "# String"
   ]
  },
  {
   "cell_type": "markdown",
   "metadata": {},
   "source": [
    "# Template string"
   ]
  },
  {
   "cell_type": "code",
   "execution_count": 1,
   "metadata": {},
   "outputs": [
    {
     "name": "stdout",
     "output_type": "stream",
     "text": [
      "In JavaScript '\n",
      "' is a line-feed.\n",
      "string text line 1\n",
      "\n",
      "sdfj\n",
      "dsf\n",
      "\n",
      "    string text line 2\n"
     ]
    },
    {
     "data": {
      "text/plain": [
       "'Hello Bob, how are you today?'"
      ]
     },
     "execution_count": 1,
     "metadata": {},
     "output_type": "execute_result"
    }
   ],
   "source": [
    "{\n",
    "    console.log(`In JavaScript '\\n' is a line-feed.`)\n",
    "\n",
    "    // multiple lines\n",
    "    console.log(`string text line 1\n",
    "\n",
    "sdfj\n",
    "dsf\n",
    "\n",
    "    string text line 2`);\n",
    "\n",
    "    // template string\n",
    "    let name = \"Bob\", time = \"today\";\n",
    "    `Hello ${name}, how are you ${time}?`\n",
    "}"
   ]
  },
  {
   "cell_type": "markdown",
   "metadata": {},
   "source": [
    "## Number to String"
   ]
  },
  {
   "cell_type": "code",
   "execution_count": 9,
   "metadata": {},
   "outputs": [
    {
     "data": {
      "text/plain": [
       "'2'"
      ]
     },
     "execution_count": 9,
     "metadata": {},
     "output_type": "execute_result"
    }
   ],
   "source": [
    "{\n",
    "    let a = 2;\n",
    "    a.toString();\n",
    "    let b = a + '';\n",
    "    let c = `${a}`;\n",
    "    let d = String(a);\n",
    "}"
   ]
  },
  {
   "cell_type": "markdown",
   "metadata": {},
   "source": [
    "## String to Number"
   ]
  },
  {
   "cell_type": "code",
   "execution_count": 30,
   "metadata": {},
   "outputs": [
    {
     "data": {
      "text/plain": [
       "0"
      ]
     },
     "execution_count": 30,
     "metadata": {},
     "output_type": "execute_result"
    }
   ],
   "source": [
    "{\n",
    "\n",
    "    parseInt('2');           //2\n",
    "    parseInt('2dsfd');       //2\n",
    "    parseInt('a2');          //NaN\n",
    "    Number('2');             //2\n",
    "    Number('2dsfd');         //NaN\n",
    "    Number('a2');            //NaN\n",
    "    '2' | 0                  //2\n",
    "    '12312dsf' | 0           //0\n",
    "    'df12' | 0               //0\n",
    "    'dfd' | 0                //0\n",
    "}"
   ]
  },
  {
   "cell_type": "markdown",
   "metadata": {},
   "source": [
    "## Default value if convertion failed."
   ]
  },
  {
   "cell_type": "code",
   "execution_count": 34,
   "metadata": {},
   "outputs": [
    {
     "data": {
      "text/plain": [
       "10"
      ]
     },
     "execution_count": 34,
     "metadata": {},
     "output_type": "execute_result"
    }
   ],
   "source": [
    "{\n",
    "    let d1 = parseInt(process.env.EXPIRED_DAYS) || 7;  // 7\n",
    "    process.env.EXPIRED_DAYS = 10;\n",
    "    let d2 = process.env.EXPIRED_DAYS | 0 || 7;        //10\n",
    "}"
   ]
  },
  {
   "cell_type": "markdown",
   "metadata": {},
   "source": [
    "## Search"
   ]
  },
  {
   "cell_type": "code",
   "execution_count": 1,
   "metadata": {},
   "outputs": [
    {
     "data": {
      "text/plain": [
       "true"
      ]
     },
     "execution_count": 1,
     "metadata": {},
     "output_type": "execute_result"
    }
   ],
   "source": [
    "{\n",
    "    let s = 'Hello world!';\n",
    "\n",
    "    s.startsWith('Hello') // true\n",
    "    s.endsWith('!') // true\n",
    "    s.includes('o') // true\n",
    "}"
   ]
  }
 ],
 "metadata": {
  "kernelspec": {
   "display_name": "Javascript (Node.js)",
   "language": "javascript",
   "name": "javascript"
  },
  "language_info": {
   "file_extension": ".js",
   "mimetype": "application/javascript",
   "name": "javascript",
   "version": "12.16.1"
  }
 },
 "nbformat": 4,
 "nbformat_minor": 4
}
