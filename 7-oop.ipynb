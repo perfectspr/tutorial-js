{
 "cells": [
  {
   "cell_type": "markdown",
   "metadata": {},
   "source": [
    "# OOP"
   ]
  },
  {
   "cell_type": "markdown",
   "metadata": {},
   "source": [
    "## Class"
   ]
  },
  {
   "cell_type": "code",
   "execution_count": 15,
   "metadata": {},
   "outputs": [
    {
     "name": "stdout",
     "output_type": "stream",
     "text": [
      "(undefined, undefined)\n"
     ]
    }
   ],
   "source": [
    "{\n",
    "    class Point {\n",
    "      constructor(x, y) {\n",
    "        //this.x = x;\n",
    "        //this.y = y;\n",
    "      }\n",
    "\n",
    "      toString() {\n",
    "        return '(' + this.x + ', ' + this.y + ')';\n",
    "      }\n",
    "    }\n",
    "    let p = new Point(10, 10); // Create instance\n",
    "    console.log(p);\n",
    "}"
   ]
  },
  {
   "cell_type": "markdown",
   "metadata": {},
   "source": [
    "## Constructor Method"
   ]
  },
  {
   "cell_type": "code",
   "execution_count": null,
   "metadata": {},
   "outputs": [],
   "source": [
    "{\n",
    "    class Point {\n",
    "    }\n",
    "\n",
    "    // 等同于\n",
    "    class Point {\n",
    "      constructor() {}\n",
    "    }\n",
    "}"
   ]
  },
  {
   "cell_type": "markdown",
   "metadata": {},
   "source": [
    "## Getter & Setter"
   ]
  },
  {
   "cell_type": "code",
   "execution_count": null,
   "metadata": {},
   "outputs": [],
   "source": [
    "{\n",
    "    class MyClass {\n",
    "      constructor() {\n",
    "        // ...\n",
    "      }\n",
    "      get prop() {\n",
    "        return 'getter';\n",
    "      }\n",
    "      set prop(value) {\n",
    "        console.log('setter: '+value);\n",
    "      }\n",
    "    }\n",
    "\n",
    "    let obj = new MyClass();\n",
    "    obj.prop = 123;  // setter: 123\n",
    "    obj.prop         // 'getter'\n",
    "}"
   ]
  },
  {
   "cell_type": "markdown",
   "metadata": {},
   "source": [
    "## Static Properties"
   ]
  },
  {
   "cell_type": "code",
   "execution_count": null,
   "metadata": {},
   "outputs": [],
   "source": [
    "{\n",
    "    class MyClass {\n",
    "      static myStaticProp = 42;\n",
    "\n",
    "      constructor() {\n",
    "        console.log(MyClass.myStaticProp); // 42\n",
    "      }\n",
    "    }\n",
    "    console.log(MyClass.myStaticProp);\n",
    "}"
   ]
  },
  {
   "cell_type": "markdown",
   "metadata": {},
   "source": [
    "## Static Method"
   ]
  },
  {
   "cell_type": "code",
   "execution_count": null,
   "metadata": {},
   "outputs": [],
   "source": [
    "{\n",
    "    class Foo {\n",
    "      static classMethod() {\n",
    "        console.log('hello');\n",
    "      }\n",
    "    }\n",
    "\n",
    "    Foo.classMethod() // 'hello'\n",
    "\n",
    "    var foo = new Foo();\n",
    "    foo.classMethod()\n",
    "    // TypeError: foo.classMethod is not a function\n",
    "}"
   ]
  },
  {
   "cell_type": "markdown",
   "metadata": {},
   "source": [
    "## Private Methods & Properties"
   ]
  },
  {
   "cell_type": "code",
   "execution_count": null,
   "metadata": {},
   "outputs": [],
   "source": [
    "{\n",
    "    // Before ES2020\n",
    "    class Widget {\n",
    "      // public method\n",
    "      foo (baz) {\n",
    "        this._bar(baz);\n",
    "      }\n",
    "      // private method\n",
    "      _bar(baz) {\n",
    "        return this.snaf = baz;\n",
    "      }\n",
    "      // ...\n",
    "    }\n",
    "    \n",
    "    //ES2020\n",
    "    class Foo {\n",
    "      #a;\n",
    "      #b;\n",
    "      constructor(a, b) {\n",
    "        this.#a = a;\n",
    "        this.#b = b;\n",
    "      }\n",
    "      #sum() {\n",
    "        return #a + #b;\n",
    "      }\n",
    "      printSum() {\n",
    "        console.log(this.#sum());\n",
    "      }\n",
    "    }\n",
    "}"
   ]
  },
  {
   "cell_type": "markdown",
   "metadata": {},
   "source": [
    "## Inheritance"
   ]
  },
  {
   "cell_type": "code",
   "execution_count": null,
   "metadata": {},
   "outputs": [],
   "source": [
    "{\n",
    "    class ColorPoint extends Point {\n",
    "      constructor(x, y, color) {\n",
    "        super(x, y); // 调用父类的constructor(x, y)\n",
    "        this.color = color;\n",
    "      }\n",
    "\n",
    "      toString() {\n",
    "        return this.color + ' ' + super.toString(); // 调用父类的toString()\n",
    "      }\n",
    "    }\n",
    "}"
   ]
  }
 ],
 "metadata": {
  "kernelspec": {
   "display_name": "Javascript (Node.js)",
   "language": "javascript",
   "name": "javascript"
  },
  "language_info": {
   "file_extension": ".js",
   "mimetype": "application/javascript",
   "name": "javascript",
   "version": "12.16.1"
  }
 },
 "nbformat": 4,
 "nbformat_minor": 4
}
